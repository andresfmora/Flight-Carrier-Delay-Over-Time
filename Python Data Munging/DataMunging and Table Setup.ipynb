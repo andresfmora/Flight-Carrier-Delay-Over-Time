{
 "cells": [
  {
   "cell_type": "markdown",
   "metadata": {
    "toc": "true"
   },
   "source": [
    "# Table of Contents\n",
    " <p><div class=\"lev1 toc-item\"><a href=\"#Setup\" data-toc-modified-id=\"Setup-1\"><span class=\"toc-item-num\">1&nbsp;&nbsp;</span>Setup</a></div><div class=\"lev1 toc-item\"><a href=\"#Load-and-Explore-Flights-Data-Years-2000-2008\" data-toc-modified-id=\"Load-and-Explore-Flights-Data-Years-2000-2008-2\"><span class=\"toc-item-num\">2&nbsp;&nbsp;</span>Load and Explore Flights Data Years 2000-2008</a></div><div class=\"lev1 toc-item\"><a href=\"#What-is-the-ratio-of-Carrier-Delay-to-Number-of-flights-over-time?\" data-toc-modified-id=\"What-is-the-ratio-of-Carrier-Delay-to-Number-of-flights-over-time?-3\"><span class=\"toc-item-num\">3&nbsp;&nbsp;</span>What is the ratio of Carrier Delay to Number of flights over time?</a></div><div class=\"lev1 toc-item\"><a href=\"#Merge-in-Carrier-name-informaiton\" data-toc-modified-id=\"Merge-in-Carrier-name-informaiton-4\"><span class=\"toc-item-num\">4&nbsp;&nbsp;</span>Merge in Carrier name informaiton</a></div><div class=\"lev1 toc-item\"><a href=\"#Create-Average-Carrier-Delay-Metric\" data-toc-modified-id=\"Create-Average-Carrier-Delay-Metric-5\"><span class=\"toc-item-num\">5&nbsp;&nbsp;</span>Create Average Carrier Delay Metric</a></div><div class=\"lev1 toc-item\"><a href=\"#Linear-Regression-Line\" data-toc-modified-id=\"Linear-Regression-Line-6\"><span class=\"toc-item-num\">6&nbsp;&nbsp;</span>Linear Regression Line</a></div>"
   ]
  },
  {
   "cell_type": "markdown",
   "metadata": {},
   "source": [
    "# Setup"
   ]
  },
  {
   "cell_type": "code",
   "execution_count": 1,
   "metadata": {
    "collapsed": true
   },
   "outputs": [],
   "source": [
    "import glob\n",
    "import pandas as pd\n",
    "pd.options.display.max_columns = 300 "
   ]
  },
  {
   "cell_type": "markdown",
   "metadata": {},
   "source": [
    "# Load and Explore Flights Data Years 2000-2008"
   ]
  },
  {
   "cell_type": "code",
   "execution_count": 2,
   "metadata": {},
   "outputs": [
    {
     "data": {
      "text/plain": [
       "['RawData\\\\2003.csv',\n",
       " 'RawData\\\\2004.csv',\n",
       " 'RawData\\\\2005.csv',\n",
       " 'RawData\\\\2006.csv',\n",
       " 'RawData\\\\2007.csv']"
      ]
     },
     "execution_count": 2,
     "metadata": {},
     "output_type": "execute_result"
    }
   ],
   "source": [
    "Files = glob.glob('RawData/*')\n",
    "Files"
   ]
  },
  {
   "cell_type": "code",
   "execution_count": 3,
   "metadata": {},
   "outputs": [
    {
     "data": {
      "text/html": [
       "<div>\n",
       "<style>\n",
       "    .dataframe thead tr:only-child th {\n",
       "        text-align: right;\n",
       "    }\n",
       "\n",
       "    .dataframe thead th {\n",
       "        text-align: left;\n",
       "    }\n",
       "\n",
       "    .dataframe tbody tr th {\n",
       "        vertical-align: top;\n",
       "    }\n",
       "</style>\n",
       "<table border=\"1\" class=\"dataframe\">\n",
       "  <thead>\n",
       "    <tr style=\"text-align: right;\">\n",
       "      <th></th>\n",
       "      <th>Year</th>\n",
       "      <th>Month</th>\n",
       "      <th>DayofMonth</th>\n",
       "      <th>DayOfWeek</th>\n",
       "      <th>DepTime</th>\n",
       "      <th>CRSDepTime</th>\n",
       "      <th>ArrTime</th>\n",
       "      <th>CRSArrTime</th>\n",
       "      <th>UniqueCarrier</th>\n",
       "      <th>FlightNum</th>\n",
       "      <th>TailNum</th>\n",
       "      <th>ActualElapsedTime</th>\n",
       "      <th>CRSElapsedTime</th>\n",
       "      <th>AirTime</th>\n",
       "      <th>ArrDelay</th>\n",
       "      <th>DepDelay</th>\n",
       "      <th>Origin</th>\n",
       "      <th>Dest</th>\n",
       "      <th>Distance</th>\n",
       "      <th>TaxiIn</th>\n",
       "      <th>TaxiOut</th>\n",
       "      <th>Cancelled</th>\n",
       "      <th>CancellationCode</th>\n",
       "      <th>Diverted</th>\n",
       "      <th>CarrierDelay</th>\n",
       "      <th>WeatherDelay</th>\n",
       "      <th>NASDelay</th>\n",
       "      <th>SecurityDelay</th>\n",
       "      <th>LateAircraftDelay</th>\n",
       "    </tr>\n",
       "  </thead>\n",
       "  <tbody>\n",
       "    <tr>\n",
       "      <th>0</th>\n",
       "      <td>2003</td>\n",
       "      <td>1</td>\n",
       "      <td>29</td>\n",
       "      <td>3</td>\n",
       "      <td>1651</td>\n",
       "      <td>1655</td>\n",
       "      <td>1912</td>\n",
       "      <td>1913</td>\n",
       "      <td>UA</td>\n",
       "      <td>1017</td>\n",
       "      <td>N202UA</td>\n",
       "      <td>141</td>\n",
       "      <td>138</td>\n",
       "      <td>119</td>\n",
       "      <td>-1</td>\n",
       "      <td>-4</td>\n",
       "      <td>ORD</td>\n",
       "      <td>MSY</td>\n",
       "      <td>837</td>\n",
       "      <td>5</td>\n",
       "      <td>17</td>\n",
       "      <td>0</td>\n",
       "      <td>NaN</td>\n",
       "      <td>0</td>\n",
       "      <td>NaN</td>\n",
       "      <td>NaN</td>\n",
       "      <td>NaN</td>\n",
       "      <td>NaN</td>\n",
       "      <td>NaN</td>\n",
       "    </tr>\n",
       "    <tr>\n",
       "      <th>1</th>\n",
       "      <td>2003</td>\n",
       "      <td>1</td>\n",
       "      <td>30</td>\n",
       "      <td>4</td>\n",
       "      <td>1654</td>\n",
       "      <td>1655</td>\n",
       "      <td>1910</td>\n",
       "      <td>1913</td>\n",
       "      <td>UA</td>\n",
       "      <td>1017</td>\n",
       "      <td>N311UA</td>\n",
       "      <td>136</td>\n",
       "      <td>138</td>\n",
       "      <td>108</td>\n",
       "      <td>-3</td>\n",
       "      <td>-1</td>\n",
       "      <td>ORD</td>\n",
       "      <td>MSY</td>\n",
       "      <td>837</td>\n",
       "      <td>2</td>\n",
       "      <td>26</td>\n",
       "      <td>0</td>\n",
       "      <td>NaN</td>\n",
       "      <td>0</td>\n",
       "      <td>NaN</td>\n",
       "      <td>NaN</td>\n",
       "      <td>NaN</td>\n",
       "      <td>NaN</td>\n",
       "      <td>NaN</td>\n",
       "    </tr>\n",
       "    <tr>\n",
       "      <th>2</th>\n",
       "      <td>2003</td>\n",
       "      <td>1</td>\n",
       "      <td>31</td>\n",
       "      <td>5</td>\n",
       "      <td>1724</td>\n",
       "      <td>1655</td>\n",
       "      <td>1936</td>\n",
       "      <td>1913</td>\n",
       "      <td>UA</td>\n",
       "      <td>1017</td>\n",
       "      <td>N317UA</td>\n",
       "      <td>132</td>\n",
       "      <td>138</td>\n",
       "      <td>110</td>\n",
       "      <td>23</td>\n",
       "      <td>29</td>\n",
       "      <td>ORD</td>\n",
       "      <td>MSY</td>\n",
       "      <td>837</td>\n",
       "      <td>5</td>\n",
       "      <td>17</td>\n",
       "      <td>0</td>\n",
       "      <td>NaN</td>\n",
       "      <td>0</td>\n",
       "      <td>NaN</td>\n",
       "      <td>NaN</td>\n",
       "      <td>NaN</td>\n",
       "      <td>NaN</td>\n",
       "      <td>NaN</td>\n",
       "    </tr>\n",
       "    <tr>\n",
       "      <th>3</th>\n",
       "      <td>2003</td>\n",
       "      <td>1</td>\n",
       "      <td>1</td>\n",
       "      <td>3</td>\n",
       "      <td>1033</td>\n",
       "      <td>1035</td>\n",
       "      <td>1625</td>\n",
       "      <td>1634</td>\n",
       "      <td>UA</td>\n",
       "      <td>1018</td>\n",
       "      <td>N409UA</td>\n",
       "      <td>232</td>\n",
       "      <td>239</td>\n",
       "      <td>215</td>\n",
       "      <td>-9</td>\n",
       "      <td>-2</td>\n",
       "      <td>OAK</td>\n",
       "      <td>ORD</td>\n",
       "      <td>1835</td>\n",
       "      <td>6</td>\n",
       "      <td>11</td>\n",
       "      <td>0</td>\n",
       "      <td>NaN</td>\n",
       "      <td>0</td>\n",
       "      <td>NaN</td>\n",
       "      <td>NaN</td>\n",
       "      <td>NaN</td>\n",
       "      <td>NaN</td>\n",
       "      <td>NaN</td>\n",
       "    </tr>\n",
       "  </tbody>\n",
       "</table>\n",
       "</div>"
      ],
      "text/plain": [
       "   Year  Month  DayofMonth  DayOfWeek  DepTime  CRSDepTime  ArrTime  \\\n",
       "0  2003      1          29          3     1651        1655     1912   \n",
       "1  2003      1          30          4     1654        1655     1910   \n",
       "2  2003      1          31          5     1724        1655     1936   \n",
       "3  2003      1           1          3     1033        1035     1625   \n",
       "\n",
       "   CRSArrTime UniqueCarrier  FlightNum TailNum  ActualElapsedTime  \\\n",
       "0        1913            UA       1017  N202UA                141   \n",
       "1        1913            UA       1017  N311UA                136   \n",
       "2        1913            UA       1017  N317UA                132   \n",
       "3        1634            UA       1018  N409UA                232   \n",
       "\n",
       "   CRSElapsedTime  AirTime  ArrDelay  DepDelay Origin Dest  Distance  TaxiIn  \\\n",
       "0             138      119        -1        -4    ORD  MSY       837       5   \n",
       "1             138      108        -3        -1    ORD  MSY       837       2   \n",
       "2             138      110        23        29    ORD  MSY       837       5   \n",
       "3             239      215        -9        -2    OAK  ORD      1835       6   \n",
       "\n",
       "   TaxiOut  Cancelled  CancellationCode  Diverted  CarrierDelay  WeatherDelay  \\\n",
       "0       17          0               NaN         0           NaN           NaN   \n",
       "1       26          0               NaN         0           NaN           NaN   \n",
       "2       17          0               NaN         0           NaN           NaN   \n",
       "3       11          0               NaN         0           NaN           NaN   \n",
       "\n",
       "   NASDelay  SecurityDelay  LateAircraftDelay  \n",
       "0       NaN            NaN                NaN  \n",
       "1       NaN            NaN                NaN  \n",
       "2       NaN            NaN                NaN  \n",
       "3       NaN            NaN                NaN  "
      ]
     },
     "execution_count": 3,
     "metadata": {},
     "output_type": "execute_result"
    }
   ],
   "source": [
    "pd.read_csv(Files[0],nrows=4)"
   ]
  },
  {
   "cell_type": "code",
   "execution_count": 4,
   "metadata": {
    "collapsed": true
   },
   "outputs": [],
   "source": [
    "ColsToRead = ['Year','Month','UniqueCarrier','TailNum','ArrDelay','DepDelay','Origin',\n",
    "              'Dest','Cancelled','CarrierDelay','WeatherDelay','NASDelay','SecurityDelay',\n",
    "              'LateAircraftDelay']\n",
    "Flights = pd.DataFrame()\n",
    "for f in Files:\n",
    "    Flights = Flights.append(pd.read_csv(f,usecols=ColsToRead))"
   ]
  },
  {
   "cell_type": "code",
   "execution_count": 5,
   "metadata": {},
   "outputs": [
    {
     "data": {
      "text/plain": [
       "(35353543, 14)"
      ]
     },
     "execution_count": 5,
     "metadata": {},
     "output_type": "execute_result"
    }
   ],
   "source": [
    "Flights.shape"
   ]
  },
  {
   "cell_type": "code",
   "execution_count": 6,
   "metadata": {},
   "outputs": [
    {
     "data": {
      "text/html": [
       "<div>\n",
       "<style>\n",
       "    .dataframe thead tr:only-child th {\n",
       "        text-align: right;\n",
       "    }\n",
       "\n",
       "    .dataframe thead th {\n",
       "        text-align: left;\n",
       "    }\n",
       "\n",
       "    .dataframe tbody tr th {\n",
       "        vertical-align: top;\n",
       "    }\n",
       "</style>\n",
       "<table border=\"1\" class=\"dataframe\">\n",
       "  <thead>\n",
       "    <tr style=\"text-align: right;\">\n",
       "      <th></th>\n",
       "      <th>Year</th>\n",
       "      <th>Month</th>\n",
       "      <th>UniqueCarrier</th>\n",
       "      <th>TailNum</th>\n",
       "      <th>ArrDelay</th>\n",
       "      <th>DepDelay</th>\n",
       "      <th>Origin</th>\n",
       "      <th>Dest</th>\n",
       "      <th>Cancelled</th>\n",
       "      <th>CarrierDelay</th>\n",
       "      <th>WeatherDelay</th>\n",
       "      <th>NASDelay</th>\n",
       "      <th>SecurityDelay</th>\n",
       "      <th>LateAircraftDelay</th>\n",
       "    </tr>\n",
       "  </thead>\n",
       "  <tbody>\n",
       "    <tr>\n",
       "      <th>2692952</th>\n",
       "      <td>2003</td>\n",
       "      <td>6</td>\n",
       "      <td>UA</td>\n",
       "      <td>N953UA</td>\n",
       "      <td>-16.0</td>\n",
       "      <td>-7.0</td>\n",
       "      <td>ORD</td>\n",
       "      <td>MSP</td>\n",
       "      <td>0</td>\n",
       "      <td>0.0</td>\n",
       "      <td>0.0</td>\n",
       "      <td>0.0</td>\n",
       "      <td>0.0</td>\n",
       "      <td>0.0</td>\n",
       "    </tr>\n",
       "    <tr>\n",
       "      <th>4558771</th>\n",
       "      <td>2007</td>\n",
       "      <td>8</td>\n",
       "      <td>OO</td>\n",
       "      <td>N953SW</td>\n",
       "      <td>-4.0</td>\n",
       "      <td>-6.0</td>\n",
       "      <td>DEN</td>\n",
       "      <td>RFD</td>\n",
       "      <td>0</td>\n",
       "      <td>0.0</td>\n",
       "      <td>0.0</td>\n",
       "      <td>0.0</td>\n",
       "      <td>0.0</td>\n",
       "      <td>0.0</td>\n",
       "    </tr>\n",
       "  </tbody>\n",
       "</table>\n",
       "</div>"
      ],
      "text/plain": [
       "         Year  Month UniqueCarrier TailNum  ArrDelay  DepDelay Origin Dest  \\\n",
       "2692952  2003      6            UA  N953UA     -16.0      -7.0    ORD  MSP   \n",
       "4558771  2007      8            OO  N953SW      -4.0      -6.0    DEN  RFD   \n",
       "\n",
       "         Cancelled  CarrierDelay  WeatherDelay  NASDelay  SecurityDelay  \\\n",
       "2692952          0           0.0           0.0       0.0            0.0   \n",
       "4558771          0           0.0           0.0       0.0            0.0   \n",
       "\n",
       "         LateAircraftDelay  \n",
       "2692952                0.0  \n",
       "4558771                0.0  "
      ]
     },
     "execution_count": 6,
     "metadata": {},
     "output_type": "execute_result"
    }
   ],
   "source": [
    "Flights.sample(2)"
   ]
  },
  {
   "cell_type": "code",
   "execution_count": 7,
   "metadata": {},
   "outputs": [
    {
     "data": {
      "text/html": [
       "<div>\n",
       "<style>\n",
       "    .dataframe thead tr:only-child th {\n",
       "        text-align: right;\n",
       "    }\n",
       "\n",
       "    .dataframe thead th {\n",
       "        text-align: left;\n",
       "    }\n",
       "\n",
       "    .dataframe tbody tr th {\n",
       "        vertical-align: top;\n",
       "    }\n",
       "</style>\n",
       "<table border=\"1\" class=\"dataframe\">\n",
       "  <thead>\n",
       "    <tr style=\"text-align: right;\">\n",
       "      <th></th>\n",
       "      <th>Year</th>\n",
       "      <th>Month</th>\n",
       "      <th>ArrDelay</th>\n",
       "      <th>DepDelay</th>\n",
       "      <th>Cancelled</th>\n",
       "      <th>CarrierDelay</th>\n",
       "      <th>WeatherDelay</th>\n",
       "      <th>NASDelay</th>\n",
       "      <th>SecurityDelay</th>\n",
       "      <th>LateAircraftDelay</th>\n",
       "    </tr>\n",
       "  </thead>\n",
       "  <tbody>\n",
       "    <tr>\n",
       "      <th>count</th>\n",
       "      <td>3.535354e+07</td>\n",
       "      <td>3.535354e+07</td>\n",
       "      <td>3.463535e+07</td>\n",
       "      <td>3.470790e+07</td>\n",
       "      <td>3.535354e+07</td>\n",
       "      <td>3.268080e+07</td>\n",
       "      <td>3.268080e+07</td>\n",
       "      <td>3.268080e+07</td>\n",
       "      <td>3.268080e+07</td>\n",
       "      <td>3.268080e+07</td>\n",
       "    </tr>\n",
       "    <tr>\n",
       "      <th>mean</th>\n",
       "      <td>2.005055e+03</td>\n",
       "      <td>6.526763e+00</td>\n",
       "      <td>7.321709e+00</td>\n",
       "      <td>8.745668e+00</td>\n",
       "      <td>1.826233e-02</td>\n",
       "      <td>3.118252e+00</td>\n",
       "      <td>6.833338e-01</td>\n",
       "      <td>3.494179e+00</td>\n",
       "      <td>2.445485e-02</td>\n",
       "      <td>4.008999e+00</td>\n",
       "    </tr>\n",
       "    <tr>\n",
       "      <th>std</th>\n",
       "      <td>1.406436e+00</td>\n",
       "      <td>3.429465e+00</td>\n",
       "      <td>3.506306e+01</td>\n",
       "      <td>3.175675e+01</td>\n",
       "      <td>1.338985e-01</td>\n",
       "      <td>1.818229e+01</td>\n",
       "      <td>8.669848e+00</td>\n",
       "      <td>1.524667e+01</td>\n",
       "      <td>1.154963e+00</td>\n",
       "      <td>1.852936e+01</td>\n",
       "    </tr>\n",
       "    <tr>\n",
       "      <th>min</th>\n",
       "      <td>2.003000e+03</td>\n",
       "      <td>1.000000e+00</td>\n",
       "      <td>-1.302000e+03</td>\n",
       "      <td>-1.410000e+03</td>\n",
       "      <td>0.000000e+00</td>\n",
       "      <td>0.000000e+00</td>\n",
       "      <td>0.000000e+00</td>\n",
       "      <td>-6.000000e+01</td>\n",
       "      <td>0.000000e+00</td>\n",
       "      <td>0.000000e+00</td>\n",
       "    </tr>\n",
       "    <tr>\n",
       "      <th>25%</th>\n",
       "      <td>2.004000e+03</td>\n",
       "      <td>4.000000e+00</td>\n",
       "      <td>-9.000000e+00</td>\n",
       "      <td>-4.000000e+00</td>\n",
       "      <td>0.000000e+00</td>\n",
       "      <td>0.000000e+00</td>\n",
       "      <td>0.000000e+00</td>\n",
       "      <td>0.000000e+00</td>\n",
       "      <td>0.000000e+00</td>\n",
       "      <td>0.000000e+00</td>\n",
       "    </tr>\n",
       "    <tr>\n",
       "      <th>50%</th>\n",
       "      <td>2.005000e+03</td>\n",
       "      <td>7.000000e+00</td>\n",
       "      <td>-1.000000e+00</td>\n",
       "      <td>0.000000e+00</td>\n",
       "      <td>0.000000e+00</td>\n",
       "      <td>0.000000e+00</td>\n",
       "      <td>0.000000e+00</td>\n",
       "      <td>0.000000e+00</td>\n",
       "      <td>0.000000e+00</td>\n",
       "      <td>0.000000e+00</td>\n",
       "    </tr>\n",
       "    <tr>\n",
       "      <th>75%</th>\n",
       "      <td>2.006000e+03</td>\n",
       "      <td>9.000000e+00</td>\n",
       "      <td>1.100000e+01</td>\n",
       "      <td>7.000000e+00</td>\n",
       "      <td>0.000000e+00</td>\n",
       "      <td>0.000000e+00</td>\n",
       "      <td>0.000000e+00</td>\n",
       "      <td>0.000000e+00</td>\n",
       "      <td>0.000000e+00</td>\n",
       "      <td>0.000000e+00</td>\n",
       "    </tr>\n",
       "    <tr>\n",
       "      <th>max</th>\n",
       "      <td>2.007000e+03</td>\n",
       "      <td>1.200000e+01</td>\n",
       "      <td>2.598000e+03</td>\n",
       "      <td>2.601000e+03</td>\n",
       "      <td>1.000000e+00</td>\n",
       "      <td>2.580000e+03</td>\n",
       "      <td>1.510000e+03</td>\n",
       "      <td>1.392000e+03</td>\n",
       "      <td>5.330000e+02</td>\n",
       "      <td>1.407000e+03</td>\n",
       "    </tr>\n",
       "  </tbody>\n",
       "</table>\n",
       "</div>"
      ],
      "text/plain": [
       "               Year         Month      ArrDelay      DepDelay     Cancelled  \\\n",
       "count  3.535354e+07  3.535354e+07  3.463535e+07  3.470790e+07  3.535354e+07   \n",
       "mean   2.005055e+03  6.526763e+00  7.321709e+00  8.745668e+00  1.826233e-02   \n",
       "std    1.406436e+00  3.429465e+00  3.506306e+01  3.175675e+01  1.338985e-01   \n",
       "min    2.003000e+03  1.000000e+00 -1.302000e+03 -1.410000e+03  0.000000e+00   \n",
       "25%    2.004000e+03  4.000000e+00 -9.000000e+00 -4.000000e+00  0.000000e+00   \n",
       "50%    2.005000e+03  7.000000e+00 -1.000000e+00  0.000000e+00  0.000000e+00   \n",
       "75%    2.006000e+03  9.000000e+00  1.100000e+01  7.000000e+00  0.000000e+00   \n",
       "max    2.007000e+03  1.200000e+01  2.598000e+03  2.601000e+03  1.000000e+00   \n",
       "\n",
       "       CarrierDelay  WeatherDelay      NASDelay  SecurityDelay  \\\n",
       "count  3.268080e+07  3.268080e+07  3.268080e+07   3.268080e+07   \n",
       "mean   3.118252e+00  6.833338e-01  3.494179e+00   2.445485e-02   \n",
       "std    1.818229e+01  8.669848e+00  1.524667e+01   1.154963e+00   \n",
       "min    0.000000e+00  0.000000e+00 -6.000000e+01   0.000000e+00   \n",
       "25%    0.000000e+00  0.000000e+00  0.000000e+00   0.000000e+00   \n",
       "50%    0.000000e+00  0.000000e+00  0.000000e+00   0.000000e+00   \n",
       "75%    0.000000e+00  0.000000e+00  0.000000e+00   0.000000e+00   \n",
       "max    2.580000e+03  1.510000e+03  1.392000e+03   5.330000e+02   \n",
       "\n",
       "       LateAircraftDelay  \n",
       "count       3.268080e+07  \n",
       "mean        4.008999e+00  \n",
       "std         1.852936e+01  \n",
       "min         0.000000e+00  \n",
       "25%         0.000000e+00  \n",
       "50%         0.000000e+00  \n",
       "75%         0.000000e+00  \n",
       "max         1.407000e+03  "
      ]
     },
     "execution_count": 7,
     "metadata": {},
     "output_type": "execute_result"
    }
   ],
   "source": [
    "Flights.describe()"
   ]
  },
  {
   "cell_type": "markdown",
   "metadata": {},
   "source": [
    "# What is the ratio of Carrier Delay to Number of flights over time?"
   ]
  },
  {
   "cell_type": "code",
   "execution_count": null,
   "metadata": {},
   "outputs": [],
   "source": [
    "# I want to only look at flights that were not cancelled\n",
    "print (Flights.shape)\n",
    "Flights = Flights[Flights.Cancelled==0]\n",
    "print (Flights.shape)"
   ]
  },
  {
   "cell_type": "markdown",
   "metadata": {},
   "source": [
    "# Merge in Carrier name informaiton"
   ]
  },
  {
   "cell_type": "code",
   "execution_count": null,
   "metadata": {},
   "outputs": [],
   "source": [
    "Flights.UniqueCarrier.unique()"
   ]
  },
  {
   "cell_type": "markdown",
   "metadata": {},
   "source": [
    "from http://aspmhelp.faa.gov/index.php/ASQP:_Carrier_Codes_and_Names\n",
    "CarrierCodeToName = pd.read_clipboard()\n",
    "CarrierCodeToName.to_csv('CarrierCodeToName.csv',index=False)"
   ]
  },
  {
   "cell_type": "code",
   "execution_count": null,
   "metadata": {
    "collapsed": true
   },
   "outputs": [],
   "source": [
    "CarrierCodeToName = pd.read_csv('CarrierCodeToName.csv')"
   ]
  },
  {
   "cell_type": "code",
   "execution_count": null,
   "metadata": {
    "collapsed": true
   },
   "outputs": [],
   "source": [
    "Flights = Flights.merge(CarrierCodeToName[['IATA Carrier Code','Carrier Name']], \n",
    "              how='left',left_on='UniqueCarrier',right_on='IATA Carrier Code')"
   ]
  },
  {
   "cell_type": "code",
   "execution_count": null,
   "metadata": {},
   "outputs": [],
   "source": [
    "Flights.sample(2)"
   ]
  },
  {
   "cell_type": "markdown",
   "metadata": {},
   "source": [
    "# Create Average Carrier Delay Metric"
   ]
  },
  {
   "cell_type": "code",
   "execution_count": null,
   "metadata": {},
   "outputs": [],
   "source": [
    "#Going to ignore these Carriers as they are very small based on google research. \n",
    "Flights[pd.isnull(Flights['Carrier Name'])].UniqueCarrier.unique()"
   ]
  },
  {
   "cell_type": "code",
   "execution_count": null,
   "metadata": {},
   "outputs": [],
   "source": [
    "print(Flights.shape)\n",
    "Flights = Flights[~pd.isnull(Flights['Carrier Name'])]\n",
    "print(Flights.shape)"
   ]
  },
  {
   "cell_type": "code",
   "execution_count": null,
   "metadata": {
    "collapsed": true
   },
   "outputs": [],
   "source": [
    "#Get needed columns\n",
    "colstouse = ['Year','Month','CarrierDelay','Carrier Name']\n",
    "Flights = Flights[colstouse]\n",
    "\n",
    "#Create datetime column\n",
    "Flights.rename(columns={\"Year\": \"year\", \"Month\": \"month\"},\n",
    "              inplace=True)\n",
    "\n",
    "Flights['day'] = 1\n",
    "\n",
    "Flights['Date'] = pd.to_datetime(Flights[['year', 'month', 'day']])"
   ]
  },
  {
   "cell_type": "code",
   "execution_count": null,
   "metadata": {
    "collapsed": true
   },
   "outputs": [],
   "source": [
    "colstouse = ['Date','CarrierDelay','Carrier Name']\n",
    "Flights = Flights[colstouse]"
   ]
  },
  {
   "cell_type": "code",
   "execution_count": null,
   "metadata": {
    "collapsed": true
   },
   "outputs": [],
   "source": [
    "#Ensure no NAN data \n",
    "Flights.CarrierDelay.fillna(0,inplace=True)"
   ]
  },
  {
   "cell_type": "code",
   "execution_count": null,
   "metadata": {},
   "outputs": [],
   "source": [
    "#No Data in first half year of 2003 so need to filter out\n",
    "Flights.groupby(['Date']).mean()"
   ]
  },
  {
   "cell_type": "code",
   "execution_count": null,
   "metadata": {
    "collapsed": true
   },
   "outputs": [],
   "source": [
    "#Filter blank dates\n",
    "Flights = Flights[Flights['Date'] >= '2003-06-01']"
   ]
  },
  {
   "cell_type": "code",
   "execution_count": null,
   "metadata": {},
   "outputs": [],
   "source": [
    "Flights.sample()"
   ]
  },
  {
   "cell_type": "code",
   "execution_count": null,
   "metadata": {
    "collapsed": true
   },
   "outputs": [],
   "source": [
    "#Aggregate data and get mean and counts for CarrierDelay\n",
    "FlightsAgg = Flights.groupby(['Carrier Name','Date']).agg(['mean', 'count'])"
   ]
  },
  {
   "cell_type": "code",
   "execution_count": null,
   "metadata": {
    "collapsed": true
   },
   "outputs": [],
   "source": [
    "FlightsAgg.columns = ['mean', 'count']"
   ]
  },
  {
   "cell_type": "code",
   "execution_count": null,
   "metadata": {},
   "outputs": [],
   "source": [
    "FlightsAgg.sample()"
   ]
  },
  {
   "cell_type": "markdown",
   "metadata": {
    "collapsed": true
   },
   "source": [
    "# Linear Regression Line"
   ]
  },
  {
   "cell_type": "code",
   "execution_count": null,
   "metadata": {
    "collapsed": true
   },
   "outputs": [],
   "source": [
    "from sklearn import linear_model"
   ]
  },
  {
   "cell_type": "code",
   "execution_count": null,
   "metadata": {
    "collapsed": true
   },
   "outputs": [],
   "source": [
    "tempDF=Flights.groupby(['Date']).agg(['mean'])"
   ]
  },
  {
   "cell_type": "code",
   "execution_count": null,
   "metadata": {
    "collapsed": true
   },
   "outputs": [],
   "source": [
    "tempDF.columns = ['mean']"
   ]
  },
  {
   "cell_type": "code",
   "execution_count": null,
   "metadata": {},
   "outputs": [],
   "source": [
    "tempDF.sample(5)"
   ]
  },
  {
   "cell_type": "code",
   "execution_count": null,
   "metadata": {
    "collapsed": true
   },
   "outputs": [],
   "source": [
    "tempDF['DPeriod'] = tempDF.index.factorize()[0].reshape(-1,1)"
   ]
  },
  {
   "cell_type": "code",
   "execution_count": null,
   "metadata": {},
   "outputs": [],
   "source": [
    "reg = linear_model.LinearRegression()\n",
    "reg.fit(tempDF[['DPeriod']], tempDF['mean'].values)"
   ]
  },
  {
   "cell_type": "code",
   "execution_count": null,
   "metadata": {},
   "outputs": [],
   "source": [
    "reg.coef_"
   ]
  },
  {
   "cell_type": "code",
   "execution_count": null,
   "metadata": {
    "collapsed": true
   },
   "outputs": [],
   "source": [
    "tempDF['Regression'] = reg.predict(tempDF.DPeriod.values.reshape(-1, 1))"
   ]
  },
  {
   "cell_type": "code",
   "execution_count": null,
   "metadata": {
    "collapsed": true
   },
   "outputs": [],
   "source": [
    "tempDF=tempDF[['Regression']]"
   ]
  },
  {
   "cell_type": "code",
   "execution_count": null,
   "metadata": {
    "collapsed": true
   },
   "outputs": [],
   "source": [
    "tempDF['Carrier Name'] = 'Regression Best Fit'\n",
    "#tempDF['count'] = 0\n",
    "tempDF.rename(columns={\"Regression\": \"mean\"},\n",
    "              inplace=True)"
   ]
  },
  {
   "cell_type": "code",
   "execution_count": null,
   "metadata": {
    "collapsed": true
   },
   "outputs": [],
   "source": [
    "tempDF = tempDF.groupby(['Carrier Name','Date']).agg(['mean', 'count'])\n",
    "tempDF.columns = ['mean', 'count']"
   ]
  },
  {
   "cell_type": "code",
   "execution_count": null,
   "metadata": {
    "collapsed": true
   },
   "outputs": [],
   "source": [
    "FlightsFin = pd.concat([tempDF,FlightsAgg])"
   ]
  },
  {
   "cell_type": "code",
   "execution_count": null,
   "metadata": {
    "collapsed": true
   },
   "outputs": [],
   "source": [
    "FlightsFin.rename(columns={\"mean\": \"Average Carrier Delay\",\n",
    "                          \"count\":\"Flight Count\"},\n",
    "              inplace=True)"
   ]
  },
  {
   "cell_type": "code",
   "execution_count": null,
   "metadata": {
    "collapsed": true
   },
   "outputs": [],
   "source": [
    "#Output Data to be Visualized in Dimple\n",
    "FlightsFin.to_csv(\"FlightData.csv\")"
   ]
  }
 ],
 "metadata": {
  "kernelspec": {
   "display_name": "Python 3",
   "language": "python",
   "name": "python3"
  },
  "language_info": {
   "codemirror_mode": {
    "name": "ipython",
    "version": 3
   },
   "file_extension": ".py",
   "mimetype": "text/x-python",
   "name": "python",
   "nbconvert_exporter": "python",
   "pygments_lexer": "ipython3",
   "version": "3.6.3"
  },
  "toc": {
   "colors": {
    "hover_highlight": "#DAA520",
    "navigate_num": "#000000",
    "navigate_text": "#333333",
    "running_highlight": "#FF0000",
    "selected_highlight": "#FFD700",
    "sidebar_border": "#EEEEEE",
    "wrapper_background": "#FFFFFF"
   },
   "moveMenuLeft": true,
   "nav_menu": {
    "height": "114px",
    "width": "254px"
   },
   "navigate_menu": true,
   "number_sections": true,
   "sideBar": true,
   "threshold": 4,
   "toc_cell": true,
   "toc_section_display": "block",
   "toc_window_display": true,
   "widenNotebook": false
  }
 },
 "nbformat": 4,
 "nbformat_minor": 2
}
